{
  "cells": [
    {
      "cell_type": "markdown",
      "metadata": {
        "id": "view-in-github",
        "colab_type": "text"
      },
      "source": [
        "<a href=\"https://colab.research.google.com/github/axel-sirota/decision-trees-and-random-forests/blob/main/2_Random_Forests.ipynb\" target=\"_parent\"><img src=\"https://colab.research.google.com/assets/colab-badge.svg\" alt=\"Open In Colab\"/></a>"
      ]
    },
    {
      "cell_type": "markdown",
      "source": [
        "# Random Forest\n",
        "\n",
        "© Data Trainers LLC. GPL v 3.0.\n",
        "\n",
        "Author: Axel Sirota\n",
        "\n",
        "<img src=\"https://www.dropbox.com/scl/fi/esem47f0n5rc37bxrrogw/knn.png?rlkey=c30sk3cn5d7tw65xl2qmha6ag&raw=1\"  align=\"center\"/>\n",
        "\n",
        "#### Read the iris data into a pandas DataFrame, including column names."
      ],
      "metadata": {
        "collapsed": false,
        "id": "-TDnknKNGaRP"
      }
    },
    {
      "cell_type": "code",
      "execution_count": null,
      "outputs": [],
      "source": [
        "%%writefile get_data.sh\n",
        "mkdir -p data\n",
        "if [ ! -f data/cell_phone_churn.csv ]; then\n",
        "  wget -O data/cell_phone_churn.csv https://www.dropbox.com/scl/fi/qutq3sa7dge9vx133to6o/cell_phone_churn.csv?rlkey=1jpwo0ork58254lzxxy0qz4kf&dl=0\n",
        "fi\n",
        "if [ ! -f data/churn_missing.csv ]; then\n",
        "  wget -O data/churn_missing.csv https://www.dropbox.com/scl/fi/rab18zeo6bq58fz1tadwc/churn_missing.csv?rlkey=32tcp05gaj8rgnpc76vh2dbca&dl=0\n",
        "fi\n",
        "if [ ! -f data/iris.data ]; then\n",
        "  wget -O data/iris.data https://www.dropbox.com/scl/fi/0vpbcxsiesofpknnkz1mo/iris.data?rlkey=8lz6biaoccef8ggvpx4kebrbm&dl=0\n",
        "fi\n",
        "if [ ! -f data/NBA_players_2015.csv ]; then\n",
        "  wget -O data/NBA_players_2015.csv https://www.dropbox.com/scl/fi/0jgo8u5lbphvwwl2btq1w/NBA_players_2015.csv?rlkey=q86m5lp3ycndh5jbegvjewwzu&dl=0\n",
        "fi\n",
        "if [ ! -f data/NHL_Data_GA.csv ]; then\n",
        "  wget -O data/NHL_Data_GA.csv https://www.dropbox.com/scl/fi/lf41hb2tfe212dfqof9w8/NHL_Data_GA.csv?rlkey=jzgi8133t53wk6ybmjay1duig&dl=0\n",
        "fi\n",
        "\n"
      ],
      "metadata": {
        "pycharm": {
          "name": "#%%\n"
        },
        "id": "PyZ_cRUbGaRS"
      }
    },
    {
      "cell_type": "code",
      "execution_count": null,
      "outputs": [],
      "source": [
        "!bash get_data.sh"
      ],
      "metadata": {
        "pycharm": {
          "name": "#%%\n"
        },
        "id": "2I9CsBlRGaRS"
      }
    },
    {
      "cell_type": "code",
      "execution_count": null,
      "outputs": [],
      "source": [
        "# Read the iris data into a DataFrame.\n",
        "import pandas as pd\n",
        "import numpy as np\n",
        "import matplotlib.pyplot as plt\n",
        "import warnings\n",
        "warnings.filterwarnings('ignore')\n",
        "\n",
        "# Display plots in-notebook\n",
        "%matplotlib inline\n",
        "\n",
        "# Increase default figure and font sizes for easier viewing.\n",
        "plt.rcParams['figure.figsize'] = (8, 6)\n",
        "plt.rcParams['font.size'] = 14\n",
        "\n",
        "data = 'data/iris.data'\n",
        "iris = pd.read_csv(data)"
      ],
      "metadata": {
        "pycharm": {
          "name": "#%%\n"
        },
        "id": "G70FOHDEGaRT"
      }
    },
    {
      "cell_type": "code",
      "execution_count": null,
      "outputs": [],
      "source": [
        "iris.head()"
      ],
      "metadata": {
        "pycharm": {
          "name": "#%%\n"
        },
        "id": "ES6vkQO6GaRT"
      }
    },
    {
      "cell_type": "code",
      "execution_count": null,
      "outputs": [],
      "source": [
        "iris.species.unique()"
      ],
      "metadata": {
        "pycharm": {
          "name": "#%%\n"
        },
        "id": "g9NflsRBGaRU"
      }
    },
    {
      "cell_type": "code",
      "execution_count": null,
      "outputs": [],
      "source": [
        "iris[iris['species']=='Iris-versicolor']"
      ],
      "metadata": {
        "pycharm": {
          "name": "#%%\n"
        },
        "id": "Ebw18b1HGaRU"
      }
    },
    {
      "cell_type": "markdown",
      "source": [
        "<a id=\"terminology\"></a>\n",
        "### Terminology\n",
        "\n",
        "- **150 observations** (n=150): Each observation is one iris flower.\n",
        "- **Four features** (p=4): sepal length, sepal width, petal length, and petal width.\n",
        "- **Response**: One of three possible iris species (setosa, versicolor, or virginica)\n",
        "- **Classification problem** because response is categorical."
      ],
      "metadata": {
        "collapsed": false,
        "id": "_gtlFxZRGaRU"
      }
    },
    {
      "cell_type": "code",
      "execution_count": null,
      "outputs": [],
      "source": [
        "iris.head(2)"
      ],
      "metadata": {
        "pycharm": {
          "name": "#%%\n"
        },
        "id": "5EURHIaWGaRU"
      }
    },
    {
      "cell_type": "markdown",
      "source": [
        "# Random Forest\n",
        "----\n",
        "Dictatorship or diplomacy?"
      ],
      "metadata": {
        "collapsed": false,
        "pycharm": {
          "name": "#%% md\n"
        },
        "id": "XJLpUM9gGaRV"
      }
    },
    {
      "cell_type": "markdown",
      "source": [
        "<img src=\"https://www.dropbox.com/scl/fi/agihb72fdl8yozz3k3an9/rf.jpg?rlkey=yxry1ud5m2obcm2sjhhfp49fj&raw=1\"  align=\"center\"/>"
      ],
      "metadata": {
        "collapsed": false,
        "id": "aaowWUBGGaRV"
      }
    },
    {
      "cell_type": "code",
      "execution_count": null,
      "outputs": [],
      "source": [
        "## Lets import RF\n",
        "from sklearn.ensemble import RandomForestClassifier\n",
        "from sklearn.model_selection import train_test_split\n",
        "from sklearn import metrics"
      ],
      "metadata": {
        "pycharm": {
          "name": "#%%\n"
        },
        "id": "14VZM3C1GaRW"
      }
    },
    {
      "cell_type": "code",
      "execution_count": null,
      "outputs": [],
      "source": [
        "# Calculate testing error.\n",
        "rf_model = RandomForestClassifier(n_estimators=20,max_depth=5, random_state=0)"
      ],
      "metadata": {
        "pycharm": {
          "name": "#%%\n"
        },
        "id": "8mAeHqvcGaRW"
      }
    },
    {
      "cell_type": "code",
      "execution_count": null,
      "outputs": [],
      "source": [
        "rf_model"
      ],
      "metadata": {
        "pycharm": {
          "name": "#%%\n"
        },
        "id": "PjHhPAp6GaRW"
      }
    },
    {
      "cell_type": "code",
      "execution_count": null,
      "outputs": [],
      "source": [
        "X = iris[[\"sepal_length\", \"sepal_width\", \"petal_length\", \"petal_width\"]]\n",
        "y = iris.species\n",
        "\n",
        "X_train, X_test, y_train, y_test = train_test_split(X,y, test_size=0.2, random_state=99)\n",
        "\n",
        "rf_model.fit(X_train, y_train)\n",
        "\n",
        "y_pred_class = rf_model.predict(X_test)\n",
        "testing_accuracy = metrics.accuracy_score(y_test, y_pred_class)\n",
        "print('the accuracy is: ',testing_accuracy)\n",
        "testing_error = 1 - testing_accuracy\n",
        "\n",
        "print('the error is: ',testing_error)"
      ],
      "metadata": {
        "pycharm": {
          "name": "#%%\n"
        },
        "id": "3kktXjLSGaRX"
      }
    },
    {
      "cell_type": "markdown",
      "source": [
        "# Now you do it\n",
        "<img src=\"https://www.dropbox.com/scl/fi/s9kv1dytq4qzr8g19y3r0/hands_on.jpg?rlkey=yz8kq22sfdgc7lsgmm1e0fksr&raw=1\" width=\"100\" height=\"100\" align=\"right\"/>"
      ],
      "metadata": {
        "collapsed": false,
        "id": "T-Sp13THGaRX"
      }
    },
    {
      "cell_type": "markdown",
      "source": [
        "The dataset is one on \"churn\" in cell phone plans. It has information on the usage of the phones by different account holders and whether or not they churned or not.\n",
        "\n",
        "Our goal is to predict whether a user will churn or not based on the other features.\n",
        "\n",
        "<img src=\"https://www.dropbox.com/scl/fi/r0di6ju7bm2pskg5nqd0n/churn.png?rlkey=xclo5ytlre63kb6o31sjub956&raw=1\"  align=\"center\"/>\n",
        "\n",
        "### Use these parameters for testing\n",
        "\n",
        "> random_state = 99\n",
        "\n",
        "> test_size = 0.2"
      ],
      "metadata": {
        "collapsed": false,
        "id": "GIHLHV63GaRX"
      }
    },
    {
      "cell_type": "code",
      "execution_count": null,
      "outputs": [],
      "source": [
        "churn = pd.read_csv('./data/churn_missing.csv')\n",
        "churn.head()"
      ],
      "metadata": {
        "pycharm": {
          "name": "#%%\n"
        },
        "id": "LmDZOciYGaRX"
      }
    },
    {
      "cell_type": "code",
      "execution_count": null,
      "outputs": [],
      "source": [
        "churn.shape"
      ],
      "metadata": {
        "pycharm": {
          "name": "#%%\n"
        },
        "id": "l5jA2ByuGaRX"
      }
    },
    {
      "cell_type": "code",
      "execution_count": null,
      "outputs": [],
      "source": [
        "churn.isnull().sum().plot(kind='bar')"
      ],
      "metadata": {
        "pycharm": {
          "name": "#%%\n"
        },
        "id": "KZJpGboIGaRX"
      }
    },
    {
      "cell_type": "code",
      "execution_count": null,
      "outputs": [],
      "source": [],
      "metadata": {
        "pycharm": {
          "name": "#%%\n"
        },
        "id": "x8HFoGwWGaRY"
      }
    }
  ],
  "metadata": {
    "kernelspec": {
      "display_name": "Python 3 (ipykernel)",
      "language": "python",
      "name": "python3"
    },
    "language_info": {
      "codemirror_mode": {
        "name": "ipython",
        "version": 3
      },
      "file_extension": ".py",
      "mimetype": "text/x-python",
      "name": "python",
      "nbconvert_exporter": "python",
      "pygments_lexer": "ipython3",
      "version": "3.9.1"
    },
    "colab": {
      "provenance": [],
      "include_colab_link": true
    }
  },
  "nbformat": 4,
  "nbformat_minor": 0
}