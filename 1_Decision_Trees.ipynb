{
  "cells": [
    {
      "cell_type": "markdown",
      "metadata": {
        "id": "view-in-github",
        "colab_type": "text"
      },
      "source": [
        "<a href=\"https://colab.research.google.com/github/axel-sirota/decision-trees-and-random-forests/blob/main/1_Decision_Trees.ipynb\" target=\"_parent\"><img src=\"https://colab.research.google.com/assets/colab-badge.svg\" alt=\"Open In Colab\"/></a>"
      ]
    },
    {
      "cell_type": "markdown",
      "source": [
        "# Decision Trees\n",
        "\n",
        "© Data Trainers LLC. GPL v 3.0.\n",
        "\n",
        "Author: Axel Sirota"
      ],
      "metadata": {
        "collapsed": false,
        "id": "ziV-g-JDE4jw"
      }
    },
    {
      "cell_type": "code",
      "execution_count": null,
      "outputs": [],
      "source": [
        "# Glass identification data set\n",
        "import pandas as pd\n",
        "from sklearn import linear_model, model_selection, metrics\n",
        "import warnings\n",
        "warnings.filterwarnings('ignore')"
      ],
      "metadata": {
        "pycharm": {
          "name": "#%%\n"
        },
        "id": "rnXsTihYE4jx"
      }
    },
    {
      "cell_type": "code",
      "execution_count": null,
      "outputs": [],
      "source": [
        "\n",
        "%%writefile get_data.sh\n",
        "mkdir -p data\n",
        "if [ ! -f data/admissions.csv ]; then\n",
        "  wget -O data/admissions.csv https://www.dropbox.com/scl/fi/bjcutl89xibf3r99yc8q0/admissions.csv?rlkey=n36lo0iffob0j73rys1vf3cn5&dl=0\n",
        "fi\n",
        "if [ ! -f data/bank.csv ]; then\n",
        "  wget -O data/bank.csv https://www.dropbox.com/scl/fi/ukxqbfalj3rx5nyzven9j/bank.csv?rlkey=hfrax97bwt45dq9ag0jdpsgsp&dl=0\n",
        "fi\n",
        "if [ ! -f data/evergreen_sites.tsv ]; then\n",
        "  wget -O data/evergreen_sites.tsv https://www.dropbox.com/scl/fi/c310bmln3pv8vdlbweo1k/evergreen_sites.tsv?rlkey=kie6jqkr4klw26b9gnowinyd9&dl=0\n",
        "fi\n",
        "if [ ! -f data/glass.csv ]; then\n",
        "  wget -O data/glass.csv https://www.dropbox.com/scl/fi/dv522a61am4dsc3vkfp4p/glass.csv?rlkey=6l9v685sw98plzj2myvtjpes6&dl=0\n",
        "fi\n",
        "if [ ! -f data/titanic.csv ]; then\n",
        "  wget -O data/titanic.csv https://www.dropbox.com/scl/fi/csnl3vpbq94i4vxpfoe2w/titanic.csv?rlkey=6q576c7lp0e25tb5khvz066l9&dl=0\n",
        "fi"
      ],
      "metadata": {
        "pycharm": {
          "name": "#%%\n"
        },
        "id": "pQM6g_ymE4jy"
      }
    },
    {
      "cell_type": "code",
      "execution_count": null,
      "outputs": [],
      "source": [
        "!bash get_data.sh"
      ],
      "metadata": {
        "pycharm": {
          "name": "#%%\n"
        },
        "id": "6gYCa8o5E4jz"
      }
    },
    {
      "cell_type": "markdown",
      "source": [
        "Decision Trees are deterministic classification algorithms that are extremely intuitive into how they classify.\n",
        "\n",
        "To show their power check the following link:\n",
        "\n",
        "http://www.r2d3.us/visual-intro-to-machine-learning-part-1/"
      ],
      "metadata": {
        "collapsed": false,
        "pycharm": {
          "name": "#%% md\n"
        },
        "id": "p-wIjZbkE4j0"
      }
    },
    {
      "cell_type": "markdown",
      "source": [
        "# Lets build a Tree to classify\n",
        "\n",
        "<img src=\"https://www.dropbox.com/scl/fi/z6xbyrn4phkxcr4ca1qyd/tree.jpg?rlkey=we02at2ie3dmnssyxtiadw7yv&raw=1\"  align=\"center\"/>"
      ],
      "metadata": {
        "collapsed": false,
        "id": "7NxY7N_7E4j0"
      }
    },
    {
      "cell_type": "code",
      "execution_count": null,
      "outputs": [],
      "source": [
        "glass = pd.read_csv('data/glass.csv')\n",
        "glass.columns = ['ri','na','mg','al','si','k','ca','ba','fe','glass_type']\n",
        "glass[\"household\"] = glass.glass_type.apply(lambda x : x//4)\n",
        "glass.head(2)"
      ],
      "metadata": {
        "pycharm": {
          "name": "#%%\n"
        },
        "id": "nykDwQA-E4j0"
      }
    },
    {
      "cell_type": "code",
      "execution_count": null,
      "outputs": [],
      "source": [
        "X = glass[['na','fe','al','k']]\n",
        "y = glass.household\n",
        "X.head()"
      ],
      "metadata": {
        "pycharm": {
          "name": "#%%\n"
        },
        "id": "DkheEdjkE4j1"
      }
    },
    {
      "cell_type": "code",
      "execution_count": null,
      "outputs": [],
      "source": [
        "y.head()"
      ],
      "metadata": {
        "pycharm": {
          "name": "#%%\n"
        },
        "id": "76qrjBnXE4j1"
      }
    },
    {
      "cell_type": "code",
      "execution_count": null,
      "outputs": [],
      "source": [
        "!pip install pydotplus"
      ],
      "metadata": {
        "pycharm": {
          "name": "#%%\n"
        },
        "id": "bViYllDcE4j2"
      }
    },
    {
      "cell_type": "code",
      "execution_count": null,
      "outputs": [],
      "source": [
        "from sklearn.tree import DecisionTreeClassifier\n",
        "from sklearn import tree\n",
        "# for vizualizing the tree\n",
        "import pydotplus\n",
        "from IPython.display import Image\n",
        "from sklearn.model_selection import train_test_split\n",
        "# Create decision tree classifer object\n",
        "tree_model = DecisionTreeClassifier(random_state=0,max_depth=5)"
      ],
      "metadata": {
        "pycharm": {
          "name": "#%%\n"
        },
        "id": "hY65oWZEE4j3"
      }
    },
    {
      "cell_type": "code",
      "execution_count": null,
      "outputs": [],
      "source": [
        "tree_model"
      ],
      "metadata": {
        "pycharm": {
          "name": "#%%\n"
        },
        "id": "klcGgoUyE4j3"
      }
    },
    {
      "cell_type": "code",
      "execution_count": null,
      "outputs": [],
      "source": [
        "X_train, X_test, y_train, y_test = train_test_split(X,y, test_size=0.2, random_state=99)\n",
        "\n",
        "# logistic regression model fit\n",
        "tree_model.fit(X_train,y_train)\n",
        "\n",
        "# do prediction on test Data\n",
        "y_pred=tree_model.predict(X_test)\n",
        "print(y_pred)\n",
        "\n",
        "# Calculate score\n",
        "tree_model.score(X_test,y_test)"
      ],
      "metadata": {
        "pycharm": {
          "name": "#%%\n"
        },
        "id": "xrCQvc3ZE4j4"
      }
    },
    {
      "cell_type": "code",
      "execution_count": null,
      "outputs": [],
      "source": [
        "X.columns.values"
      ],
      "metadata": {
        "pycharm": {
          "name": "#%%\n"
        },
        "id": "yqXFGDI0E4j4"
      }
    },
    {
      "cell_type": "code",
      "execution_count": null,
      "outputs": [],
      "source": [
        "# Create DOT data\n",
        "dot_data = tree.export_graphviz(tree_model, out_file=None,\n",
        "                                feature_names=X.columns.values,\n",
        "                                class_names=['yes','no'])\n",
        "\n",
        "# Draw graph\n",
        "graph = pydotplus.graph_from_dot_data(dot_data)\n",
        "\n",
        "# Show graph\n",
        "Image(graph.create_png())"
      ],
      "metadata": {
        "pycharm": {
          "name": "#%%\n"
        },
        "id": "p-nxgxwCE4j4"
      }
    },
    {
      "cell_type": "code",
      "execution_count": null,
      "outputs": [],
      "source": [
        "## Lets review the Matrix for above example\n",
        "\n",
        "metrics.confusion_matrix(y_test, y_pred)"
      ],
      "metadata": {
        "pycharm": {
          "name": "#%%\n"
        },
        "id": "YuOqAQ-HE4j4"
      }
    },
    {
      "cell_type": "code",
      "execution_count": null,
      "outputs": [],
      "source": [
        "from sklearn.metrics import classification_report\n",
        "\n",
        "print(classification_report(y_test, y_pred))"
      ],
      "metadata": {
        "pycharm": {
          "name": "#%%\n"
        },
        "id": "39aIXLEpE4j4"
      }
    },
    {
      "cell_type": "markdown",
      "source": [
        "The problem with Trees is that they tend to overfit, so what can we do? Let's check an idea from this link:\n",
        "\n",
        "http://www.r2d3.us/visual-intro-to-machine-learning-part-2/"
      ],
      "metadata": {
        "collapsed": false,
        "pycharm": {
          "name": "#%% md\n"
        },
        "id": "pS7zQW7iE4j5"
      }
    },
    {
      "cell_type": "markdown",
      "source": [
        "Apparently this idea of having a multitude of trees could be good. Let's explore more of that in the next notebook.\n"
      ],
      "metadata": {
        "collapsed": false,
        "pycharm": {
          "name": "#%% md\n"
        },
        "id": "CTeKqNW1E4j5"
      }
    },
    {
      "cell_type": "markdown",
      "metadata": {
        "id": "PO8tm64fDZFb"
      },
      "source": [
        "# Now you do it\n",
        "\n",
        "Predicted who gets admitted or not?\n",
        "\n",
        ">  test_size : 0.25   and random_state = 99\n",
        "\n",
        "<img src=\"https://www.dropbox.com/scl/fi/qt7g1wgsnpne43cfwumu0/hands_on.jpg?rlkey=q1zyeuoiuvofnzux4iylfo6ax&raw=1\" width=\"100\" height=\"100\" align=\"right\"/>"
      ]
    },
    {
      "cell_type": "markdown",
      "metadata": {
        "id": "ydFyaS6KDZFc"
      },
      "source": [
        "**Below we will load in some data on titanic.**"
      ]
    },
    {
      "cell_type": "code",
      "execution_count": null,
      "metadata": {
        "id": "E03DlArUDZFc"
      },
      "outputs": [],
      "source": [
        "import pandas as pd\n",
        "from sklearn import linear_model, model_selection, metrics\n",
        "\n",
        "titanic = pd.read_csv('data/titanic.csv')\n",
        "titanic.head()"
      ]
    },
    {
      "cell_type": "code",
      "source": [],
      "metadata": {
        "id": "KJAUtNNiFIVq"
      },
      "execution_count": null,
      "outputs": []
    }
  ],
  "metadata": {
    "kernelspec": {
      "display_name": "Python 3 (ipykernel)",
      "language": "python",
      "name": "python3"
    },
    "language_info": {
      "codemirror_mode": {
        "name": "ipython",
        "version": 3
      },
      "file_extension": ".py",
      "mimetype": "text/x-python",
      "name": "python",
      "nbconvert_exporter": "python",
      "pygments_lexer": "ipython3",
      "version": "3.9.1"
    },
    "colab": {
      "provenance": [],
      "include_colab_link": true
    }
  },
  "nbformat": 4,
  "nbformat_minor": 0
}